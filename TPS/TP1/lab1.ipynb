{
 "cells": [
  {
   "cell_type": "code",
   "execution_count": null,
   "metadata": {},
   "outputs": [],
   "source": [
    "import numpy as np\n",
    "import matplotlib.pyplot as plt"
   ]
  },
  {
   "cell_type": "code",
   "execution_count": null,
   "metadata": {},
   "outputs": [],
   "source": [
    "def datagen(n,sigma):\n",
    "    x = np.random.rand(2,n)\n",
    "    D = (x[1] + 0.5*x[0] - 0.75)/0.5\n",
    "    Label = np.where(D > 0 , 1, 0)\n",
    "    r = np.exp(-(D*D)/(2*(sigma**2)))\n",
    "    z = np.random.binomial(1,r/2,size=n)\n",
    "    Faux = np.where(z==1,1,0)\n",
    "    Label = np.where(z==1,1-Label,Label)\n",
    "    L1 = (x.T)[(Label==1)]\n",
    "    L0 = (x.T)[(Label==0)]\n",
    "    plt.plot(L0[:,0],L0[:,1],'.r')\n",
    "    plt.plot(L1[:,0],L1[:,1],'.b')\n",
    "    plt.plot(np.linspace(0,1,100),-0.5*np.linspace(0,1,100)+0.75,'black')\n",
    "    plt.show()\n",
    "    return x,Label,Faux\n",
    "\n",
    "n = 300\n",
    "X,Label,Faux = datagen(n,sigma = 0.05)"
   ]
  },
  {
   "cell_type": "code",
   "execution_count": null,
   "metadata": {},
   "outputs": [],
   "source": [
    "X_plus = np.concatenate((X,[np.ones(len(X[0]))]),axis=0)"
   ]
  },
  {
   "cell_type": "code",
   "execution_count": null,
   "metadata": {},
   "outputs": [],
   "source": [
    "\n",
    "def sgm(x):\n",
    "  return 1 / (1 + np.exp(-x))\n",
    "\n",
    "\n",
    "Theta = np.random.rand(3)\n",
    "thetas=[Theta]\n",
    "eta = 0.1\n",
    "n_iter = 0\n",
    "n_iter_max = 1000000\n",
    "grad = 10\n",
    "while(np.linalg.norm(grad)>1e-8 and n_iter<n_iter_max):\n",
    "    pred = sgm(X_plus.T@Theta)\n",
    "    err = pred - Label\n",
    "    grad = X_plus@err\n",
    "    Theta = Theta - eta*grad\n",
    "    n_iter += 1\n",
    "    thetas.append(Theta)\n",
    "\n",
    "thetas = np.array(thetas)\n",
    "print('Theta = ' + str(Theta))\n",
    "print('n_iter = ' + str(n_iter))\n",
    "    "
   ]
  },
  {
   "cell_type": "code",
   "execution_count": null,
   "metadata": {},
   "outputs": [],
   "source": [
    "Lab_est = (np.where(sgm(X_plus.T@Theta)>0.5,1,0).astype(int))\n",
    "print(Label[:10])\n",
    "print(Lab_est[:10])\n",
    "Err=Label-Lab_est\n",
    "print(\"nombre d'erreurs après estimation : \" + str(len(np.nonzero(Err)[0])))\n",
    "print(\"nombre d'er>reurs volontairement engendrées : \" + str(len(np.nonzero(Faux)[0])))"
   ]
  },
  {
   "cell_type": "code",
   "execution_count": null,
   "metadata": {},
   "outputs": [],
   "source": [
    "Theta2 = np.random.rand(3)\n",
    "thetas2=[Theta2]\n",
    "eta = 1.5\n",
    "\n",
    "n_iter = 0\n",
    "n_iter_max = 1000\n",
    "g=10\n",
    "while(np.linalg.norm(g)>1e-8 and n_iter<n_iter_max):\n",
    "    seed = np.random.randint(1,1000000)\n",
    "    r_gen = np.random.default_rng(seed)\n",
    "    X_plus = r_gen.permutation(X_plus.T).T\n",
    "    r_gen = np.random.default_rng(seed)\n",
    "    Label = r_gen.permutation(Label)\n",
    "    for i in range(n):\n",
    "        pred = sgm(((X_plus.T)[i])@Theta2)\n",
    "        err = pred - Label[i]\n",
    "        g = (X_plus.T)[i]*err\n",
    "        Theta2 = Theta2 - eta*g\n",
    "    thetas2.append(Theta2)\n",
    "    n_iter +=1\n",
    "  \n",
    "thetas2 = np.array(thetas2)  \n",
    "print(Theta2)\n",
    "print(\"n_iter = \" + str(n_iter))\n",
    "\n"
   ]
  },
  {
   "cell_type": "code",
   "execution_count": null,
   "metadata": {},
   "outputs": [],
   "source": []
  },
  {
   "cell_type": "code",
   "execution_count": null,
   "metadata": {},
   "outputs": [],
   "source": [
    "def mini_batch(X_plus,Label):\n",
    "    Theta2 = np.random.rand(3)\n",
    "    thetas2=[Theta2]\n",
    "    eta = 1.5\n",
    "\n",
    "    n_iter = 0\n",
    "    n_iter_max = 1000\n",
    "    g=10\n",
    "    while(np.linalg.norm(g)>1e-8 and n_iter<n_iter_max):\n",
    "        seed = np.random.randint(1,1000000)\n",
    "        r_gen = np.random.default_rng(seed)\n",
    "        X_plus = r_gen.permutation(X_plus.T).T\n",
    "        r_gen = np.random.default_rng(seed)\n",
    "        Label = r_gen.permutation(Label)\n",
    "        for i in range(10):\n",
    "            pred = sgm(((X_plus.T)[i])@Theta2)\n",
    "            err = pred - Label[i]\n",
    "            g = (X_plus.T)[i]*err\n",
    "            Theta2 = Theta2 - eta*g\n",
    "        thetas2.append(Theta2)\n",
    "        n_iter +=1\n",
    "    \n",
    "    thetas2 = np.array(thetas2)  \n",
    "    print(Theta2)\n",
    "    print(\"n_iter = \" + str(n_iter))\n",
    "    return thetas2,Theta2\n",
    "\n",
    "thetas3,Theta3 = mini_batch(X_plus,Label)"
   ]
  },
  {
   "cell_type": "code",
   "execution_count": null,
   "metadata": {},
   "outputs": [],
   "source": [
    "from mpl_toolkits.mplot3d import Axes3D\n",
    "fig = plt.figure()\n",
    "ax = fig.gca(projection='3d')\n",
    "ax.plot(thetas[:,0],thetas[:,1],thetas[:,2],'-ob')\n",
    "ax.plot(thetas2[:,0],thetas2[:,1],thetas2[:,2],'-or')\n",
    "ax.plot(thetas3[:,0],thetas3[:,1],thetas3[:,2],'-og')\n",
    "plt.draw()\n",
    "\n",
    "\n"
   ]
  },
  {
   "cell_type": "code",
   "execution_count": null,
   "metadata": {},
   "outputs": [],
   "source": [
    "for i in range(len(X[0])):\n",
    "    if Label[i]==0:\n",
    "        plt.plot(X_plus[0,i],X_plus[1,i],'.r')\n",
    "    else:\n",
    "        plt.plot(X_plus[0,i],X_plus[1,i],'.b')\n",
    "\n",
    "x1 = np.linspace(0,1.,10) \n",
    "x2 = (-Theta[2]-Theta[0]*x1)/Theta[1]\n",
    "x3 = (-Theta2[2]-Theta2[0]*x1)/Theta2[1]\n",
    "x4 = (-Theta3[2]-Theta3[0]*x1)/Theta3[1]\n",
    "plt.plot(x1,x2,'--k',label = 'Gradient descent')\n",
    "plt.plot(x1,x3,'--g',label = 'Stochastic gradient descent')\n",
    "plt.plot(x1,x4,'--r',label = 'Mini batch, n=10')\n",
    "plt.legend(loc='upper right')\n",
    "plt.show()"
   ]
  }
 ],
 "metadata": {
  "interpreter": {
   "hash": "afdd001772b74fd40654b687af969dc5c78594863075e5f352b752c13c45ec5f"
  },
  "kernelspec": {
   "display_name": "Python 3.8.5 64-bit ('base': conda)",
   "language": "python",
   "name": "python3"
  },
  "language_info": {
   "codemirror_mode": {
    "name": "ipython",
    "version": 3
   },
   "file_extension": ".py",
   "mimetype": "text/x-python",
   "name": "python",
   "nbconvert_exporter": "python",
   "pygments_lexer": "ipython3",
   "version": "3.8.5"
  },
  "orig_nbformat": 4
 },
 "nbformat": 4,
 "nbformat_minor": 2
}
