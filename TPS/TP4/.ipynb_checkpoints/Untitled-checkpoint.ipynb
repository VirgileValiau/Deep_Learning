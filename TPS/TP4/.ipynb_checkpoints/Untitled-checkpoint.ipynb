{
 "cells": [
  {
   "cell_type": "code",
   "execution_count": 1,
   "metadata": {},
   "outputs": [],
   "source": [
    "import tensorflow as tf\n",
    "# if the import fails, try to install tf : pip install --upgrade tensorflow\n",
    "import numpy as np\n",
    "import matplotlib.pyplot as plt"
   ]
  },
  {
   "cell_type": "code",
   "execution_count": 2,
   "metadata": {},
   "outputs": [],
   "source": [
    "mnist = tf.keras.datasets.mnist\n",
    "(x_train, y_train), (x_test, y_test) = mnist.load_data()"
   ]
  },
  {
   "cell_type": "code",
   "execution_count": 3,
   "metadata": {},
   "outputs": [],
   "source": [
    "n = x_train.shape[0]\n",
    "d_inputs = 28 * 28\n",
    "d_hidden1 = 100\n",
    "d_hidden2 = 10  # codings\n",
    "d_hidden3 = d_hidden1\n",
    "d_outputs = d_inputs\n",
    "n_class = 10\n",
    "\n",
    "learning_rate = 1e-1\n",
    "l2_reg = 0.0005\n",
    "batch_size = 10\n",
    "steps = n//batch_size\n",
    "lr_schedule = tf.keras.optimizers.schedules.ExponentialDecay(\n",
    "    learning_rate,\n",
    "    decay_steps=500,\n",
    "    decay_rate=0.96)\n",
    "\n",
    "activation = tf.nn.elu"
   ]
  },
  {
   "cell_type": "code",
   "execution_count": 4,
   "metadata": {},
   "outputs": [],
   "source": [
    "x_train = x_train.reshape((x_train.shape[0],x_train.shape[1]*x_train.shape[2]))/255 - 0.5\n",
    "x_train = x_train.astype('float32')\n",
    "x_test = x_test.reshape((x_test.shape[0],x_test.shape[1]*x_test.shape[2]))/255 - 0.5\n",
    "x_test = x_test.astype('float32')"
   ]
  },
  {
   "cell_type": "code",
   "execution_count": 20,
   "metadata": {},
   "outputs": [],
   "source": [
    "class AE(tf.Module):\n",
    "    def __init__(self, unit_nbrs, name=None):\n",
    "        super().__init__(name=name)\n",
    "        self.w = []\n",
    "        self.b = []\n",
    "        self.K = len(unit_nbrs)-1\n",
    "        for i in range(self.K):            \n",
    "            self.w.append(tf.Variable(tf.random.normal([unit_nbrs[i],unit_nbrs[i+1]]), name='w'+str(i+1)))\n",
    "            self.b.append(tf.Variable(tf.zeros([unit_nbrs[i+1]]), name='b'+str(i+1)))\n",
    "        for i in range(self.K):\n",
    "            self.w.append(tf.Variable(tf.transpose(self.w[self.K-i-1]), name='w'+str(self.K+i+1)))            \n",
    "            self.b.append(tf.Variable(tf.zeros([unit_nbrs[self.K-i-1]]), name='b'+str(self.K+i+1)))  \n",
    "        \n",
    "    @tf.function\n",
    "    def __call__(self, x):\n",
    "        z = [x]\n",
    "        for i in range(self.K): \n",
    "            #print(self.w[i].name,self.b[i].name) \n",
    "            z.append(activation(tf.matmul(z[-1],self.w[i]) + self.b[i])) \n",
    "        #print('middle = ',z[-1])\n",
    "        for i in range(self.K):  \n",
    "            #print(self.w[self.K-i-1].name,self.b[i+self.K].name) \n",
    "            z.append(activation(tf.matmul(z[-1],self.w[self.K+i]) + self.b[i+self.K]))\n",
    "        #print('result = ', z[-1])\n",
    "        return z[-1]\n",
    "    \n",
    "def loss(target,pred):\n",
    "    return tf.math.reduce_mean(tf.math.squared_difference(target, pred))  \n",
    "\n",
    "def reg(model,l2_reg):\n",
    "    term = 0\n",
    "    for coef in model.trainable_variables:\n",
    "        if (coef.name[0]=='w'):\n",
    "            term += tf.norm(coef, ord=2)\n",
    "    return l2_reg*term"
   ]
  },
  {
   "cell_type": "code",
   "execution_count": 21,
   "metadata": {},
   "outputs": [
    {
     "name": "stdout",
     "output_type": "stream",
     "text": [
      "Model results: tf.Tensor(\n",
      "[[-1.0000000e+00  9.4247711e+02 -1.0000000e+00 ...  5.4337695e+02\n",
      "   7.0708563e+02 -1.0000000e+00]\n",
      " [ 2.7840179e+02  1.8470083e+03 -1.0000000e+00 ...  3.7989597e+02\n",
      "   1.3402456e+03  1.0408882e+03]], shape=(2, 784), dtype=float32)\n"
     ]
    }
   ],
   "source": [
    "if __name__ == '__main__':\n",
    "    my_AE = AE([d_inputs,d_hidden1,d_hidden2], name=\"the_model\")\n",
    "    print(\"Model results:\", my_AE(x_train[0:2]))\n",
    "    optimizer = tf.keras.optimizers.Adam(learning_rate=lr_schedule)"
   ]
  },
  {
   "cell_type": "code",
   "execution_count": 22,
   "metadata": {},
   "outputs": [
    {
     "name": "stdout",
     "output_type": "stream",
     "text": [
      "Epoch 4 - 99% - \tf=0.058595218"
     ]
    }
   ],
   "source": [
    "\n",
    "    n_epochs = 5\n",
    "    \n",
    "    for epoch in range(n_epochs):\n",
    "        for step in range(steps):\n",
    "            # Computing the function meanwhile recording a gradient tape\n",
    "            with tf.GradientTape() as tape:\n",
    "                x=x_train[batch_size * step : batch_size*(step+1)]\n",
    "                train_loss = loss(x,my_AE(x)) + reg(my_AE,l2_reg)\n",
    "\n",
    "            grads = tape.gradient(train_loss,my_AE.trainable_variables)\n",
    "            optimizer.apply_gradients(zip(grads, my_AE.trainable_variables))\n",
    "            print(\"\\rEpoch %d - %d%% - \\tf=%s\" % (epoch, int(step/steps*100), train_loss.numpy()),end=\"\")"
   ]
  },
  {
   "cell_type": "code",
   "execution_count": 39,
   "metadata": {},
   "outputs": [
    {
     "name": "stdout",
     "output_type": "stream",
     "text": [
      "Inputs: [-0.5 -0.5 -0.5 -0.5 -0.5]\n",
      "Model results: tf.Tensor([-0.5 -0.5 -0.5 -0.5 -0.5], shape=(5,), dtype=float32)\n",
      "Test MSE = tf.Tensor(0.067229256, shape=(), dtype=float32)\n"
     ]
    },
    {
     "data": {
      "image/png": "[encoded data removed]",
      "text/plain": [
       "<Figure size 432x288 with 1 Axes>"
      ]
     },
     "metadata": {
      "needs_background": "light"
     },
     "output_type": "display_data"
    }
   ],
   "source": [
    "ind = 1\n",
    "print(\"Inputs:\", x_train[ind:ind+1][0,:5])\n",
    "print(\"Model results:\", my_AE(x_train[ind:ind+1])[0,:5])\n",
    "x_tilde = my_AE(x_train[ind:ind+1]).numpy()\n",
    "#print('x_tilde = ',x_tilde)\n",
    "\n",
    "plt.imshow(np.reshape(x_tilde,(28,28)), cmap='gray', interpolation=\"nearest\")\n",
    "\n",
    "x_tilde_test = my_AE(x_test)\n",
    "test_loss = loss(x_test,x_tilde_test)\n",
    "print(\"Test MSE =\",test_loss)"
   ]
  },
  {
   "cell_type": "code",
   "execution_count": 40,
   "metadata": {},
   "outputs": [
    {
     "data": {
      "image/png": "[encoded data removed]",
      "text/plain": [
       "<Figure size 432x288 with 1 Axes>"
      ]
     },
     "metadata": {
      "needs_background": "light"
     },
     "output_type": "display_data"
    }
   ],
   "source": [
    "plt.imshow(x_train[ind].reshape((28,28)), cmap='gray', interpolation=\"nearest\")\n",
    "plt.show()"
   ]
  },
  {
   "cell_type": "code",
   "execution_count": null,
   "metadata": {},
   "outputs": [],
   "source": []
  }
 ],
 "metadata": {
  "kernelspec": {
   "display_name": "Python 3",
   "language": "python",
   "name": "python3"
  },
  "language_info": {
   "codemirror_mode": {
    "name": "ipython",
    "version": 3
   },
   "file_extension": ".py",
   "mimetype": "text/x-python",
   "name": "python",
   "nbconvert_exporter": "python",
   "pygments_lexer": "ipython3",
   "version": "3.8.5"
  }
 },
 "nbformat": 4,
 "nbformat_minor": 4
}
